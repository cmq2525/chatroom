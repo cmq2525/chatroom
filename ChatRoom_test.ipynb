{
 "cells": [
  {
   "cell_type": "code",
   "execution_count": 1,
   "metadata": {
    "collapsed": true
   },
   "outputs": [],
   "source": [
    "import datetime\n",
    "\n",
    "import pymysql\n",
    "from flask import Flask, request,make_response, jsonify,render_template\n",
    "from flask_cors import CORS\n",
    "from werkzeug.utils import secure_filename\n",
    "\n",
    "import os\n",
    "import random"
   ]
  },
  {
   "cell_type": "code",
   "execution_count": 2,
   "metadata": {
    "collapsed": true
   },
   "outputs": [],
   "source": [
    "WORK_DIR = os.getcwd()\n",
    "SERVER_ADDR = 'http://localhost:7777/'"
   ]
  },
  {
   "cell_type": "markdown",
   "metadata": {},
   "source": [
    "## SQL部分"
   ]
  },
  {
   "cell_type": "code",
   "execution_count": 3,
   "metadata": {
    "collapsed": true
   },
   "outputs": [],
   "source": [
    "def execute_sql(sql):\n",
    "    db = pymysql.connect(\"localhost\",\"root\",\"cmq19950520\",\"Chatroom\" )\n",
    "    cursor = db.cursor()\n",
    "    cursor.execute(sql)\n",
    "    result = cursor.fetchall()\n",
    "    db.commit()\n",
    "    db.close()\n",
    "    return result\n"
   ]
  },
  {
   "cell_type": "code",
   "execution_count": 4,
   "metadata": {
    "collapsed": true
   },
   "outputs": [],
   "source": [
    "#用户表，用户名和密码\n",
    "def init_user_table():\n",
    "    sql = \"\"\"CREATE TABLE USER (\n",
    "             user_id INT UNSIGNED AUTO_INCREMENT,\n",
    "             username VARCHAR(20) NOT NULL UNIQUE,\n",
    "             nickname VARCHAR(20),\n",
    "             password VARCHAR(20) NOT NULL,\n",
    "             avatar VARCHAR(100) NOT NULL DEFAULT 'images/default.jpg',\n",
    "             PRIMARY KEY (user_id)\n",
    "             )ENGINE=InnoDB DEFAULT CHARSET=utf8;\"\"\"\n",
    "    execute_sql(sql)\n",
    "def show_user_table():\n",
    "    sql = \"\"\"SELECT * FROM USER\"\"\"\n",
    "    result = execute_sql(sql)\n",
    "    return result\n",
    "\n",
    "def insert_user_item(username,password):\n",
    "    sql = \"\"\"INSERT INTO USER(username,password)\n",
    "             VALUES('%s','%s');\"\"\"%(username,password)\n",
    "    execute_sql(sql)\n",
    "#除了主键，皆可更新\n",
    "def update_password(username,password):\n",
    "    sql = \"\"\"UPDATE USER SET password='%s' \n",
    "             WHERE username='%s';\"\"\"%(password,username)\n",
    "    execute_sql(sql)\n",
    "def update_avatar(username,avatar):\n",
    "    sql = \"\"\"UPDATE USER SET avatar='%s' \n",
    "             WHERE username='%s';\"\"\"%(avatar,username)\n",
    "    execute_sql(sql)\n",
    "def update_nickname(username,nickname):\n",
    "    sql = \"\"\"UPDATE USER SET nickname='%s' \n",
    "             WHERE username='%s';\"\"\"%(nickname,username)\n",
    "    execute_sql(sql)\n",
    "def get_user_by_name(username):\n",
    "    sql = \"\"\"SELECT * FROM USER WHERE username='%s';\"\"\"%(username)\n",
    "    result = execute_sql(sql)\n",
    "    return result\n",
    "def get_user_by_id(user_id):\n",
    "    sql = \"\"\"SELECT * FROM USER WHERE user_id='%s';\"\"\"%(user_id)\n",
    "    result = execute_sql(sql)\n",
    "    return result\n"
   ]
  },
  {
   "cell_type": "code",
   "execution_count": null,
   "metadata": {},
   "outputs": [],
   "source": []
  },
  {
   "cell_type": "code",
   "execution_count": null,
   "metadata": {
    "collapsed": true
   },
   "outputs": [],
   "source": []
  },
  {
   "cell_type": "code",
   "execution_count": 5,
   "metadata": {
    "collapsed": true
   },
   "outputs": [],
   "source": [
    "#聊天记录表，谁向谁发送了什么信息\n",
    "def init_chat_history_table():\n",
    "    sql = \"\"\"CREATE TABLE CHAT_HISTORY (\n",
    "             id INT UNSIGNED AUTO_INCREMENT,\n",
    "             user_id INT UNSIGNED NOT NULL,\n",
    "             target_id INT UNSIGNED NOT NULL,\n",
    "             target_type VARCHAR(20) NOT NULL DEFAULT 'chatroom' COMMENT 'user or chatroom',\n",
    "             content TEXT NOT NULL,\n",
    "             time DATETIME NOT NULL,\n",
    "             PRIMARY KEY ( id )\n",
    "             )ENGINE=InnoDB DEFAULT CHARSET=utf8;\"\"\"\n",
    "    execute_sql(sql)\n",
    "def show_chat_history_table():\n",
    "    sql = \"\"\"SELECT * FROM CHAT_HISTORY\"\"\"\n",
    "    result = execute_sql(sql)\n",
    "    return result\n",
    "def insert_chat_history_item(user_id,target_id,target_type,content,time='now'):\n",
    "    if time=='now':\n",
    "        time = datetime.datetime.now().__format__(\"%Y-%m-%d %H:%M\")\n",
    "        \n",
    "    sql = \"\"\"INSERT INTO CHAT_HISTORY(user_id,target_id,content,time)\n",
    "             VALUES('%s','%s','%s','%s');\"\"\"%(user_id,target_id,content,time)\n",
    "    execute_sql(sql)\n",
    "    \n",
    "def check_chat_history(target_id,target_type,start_time,end_time):\n",
    "    sql = \"\"\"SELECT * FROM CHAT_HISTORY WHERE target_id='%s' AND target_type='%s' AND\n",
    "             time > '%s' AND time < '%s' ; \"\"\"%(target_id,target_type,start_time,end_time)\n",
    "    result = execute_sql(sql)\n",
    "    return result"
   ]
  },
  {
   "cell_type": "code",
   "execution_count": 6,
   "metadata": {
    "collapsed": true
   },
   "outputs": [],
   "source": [
    "#聊天室表，谁加入了哪个聊天室\n",
    "def init_chatroom_table():\n",
    "    sql = \"\"\"CREATE TABLE CHATROOM_MEMBER(\n",
    "             room_id INT UNSIGNED NOT NULL,\n",
    "             user_id INT UNSIGNED NOT NULL,\n",
    "             PRIMARY KEY ( room_id,user_id )\n",
    "             )ENGINE=InnoDB DEFAULT CHARSET=utf8;\"\"\"\n",
    "    execute_sql(sql)\n",
    "def show_chatroom_table():\n",
    "    sql = \"\"\"SELECT * FROM CHATROOM_MEMBER\"\"\"\n",
    "    result = execute_sql(sql)\n",
    "    return result\n",
    "def insert_chatroom_item(room_id,user_id):\n",
    "    sql = \"\"\"INSERT INTO CHATROOM_MEMBER(room_id,user_id)\n",
    "             VALUES('%s','%s')\"\"\"%(room_id,user_id)\n",
    "    execute_sql(sql)\n",
    "def get_chatroom_item(room_id,user_id):\n",
    "    sql = \"\"\"SELECT * FROM CHATROOM_MEMBER WHERE room_id='%s' AND user_id='%s';\"\"\"%(room_id,user_id);\n",
    "    result = execute_sql(sql);\n",
    "    return result;\n",
    "def delete_chatroom_item(room_id,user_id):\n",
    "    sql = \"\"\"DELETE FROM CHATROOM_MEMBER WHERE room_id='%s' AND user_id='%s';\"\"\"%(room_id,user_id)\n",
    "    execute_sql(sql)\n",
    "\n",
    "\n",
    "def get_chatroom_user(room_id):\n",
    "    sql = \"\"\"SELECT user_id FROM CHATROOM_MEMBER WHERE room_id = %s\"\"\"%(str(room_id))\n",
    "    result = execute_sql(sql)\n",
    "    return result"
   ]
  },
  {
   "cell_type": "code",
   "execution_count": 7,
   "metadata": {
    "collapsed": true
   },
   "outputs": [],
   "source": [
    "# #每一个chatroom的信息，包括id，名称，\n",
    "# def init_chatroom_info_table():\n",
    "#     sql = \"\"\"CREATE TABLE CHATROOM_INFO (\n",
    "#              room_id INT UNSIGNED NOT NULL,\n",
    "#              name VARCHAR(20) NOT NULL,\n",
    "#              avatar VARCHAR(100) NOT NULL DEFAULT 'images/default.jpg',\n",
    "#              PRIMARY KEY (room_id)\n",
    "#              )ENGINE=InnoDB DEFAULT CHARSET=utf8;\"\"\"\n",
    "#     execute_sql(sql)\n",
    "# def show_chatroom_info_table():\n",
    "#     sql = \"\"\"SELECT * FROM CHATROOM_INFO\"\"\"\n",
    "#     result = execute_sql(sql)\n",
    "#     return result\n",
    "\n",
    "# def insert_user_item(username,password):\n",
    "#     sql = \"\"\"INSERT INTO CHATROOM_INFO(username,password)\n",
    "#              VALUES('%s','%s');\"\"\"%(username,password)\n",
    "#     execute_sql(sql)\n",
    "# #除了主键，皆可更新\n",
    "# def update_password(username,password):\n",
    "#     sql = \"\"\"UPDATE USER SET password='%s' \n",
    "#              WHERE username='%s';\"\"\"%(password,username)\n",
    "#     execute_sql(sql)\n",
    "# def update_avatar(username,avatar):\n",
    "#     sql = \"\"\"UPDATE USER SET avatar='%s' \n",
    "#              WHERE username='%s';\"\"\"%(avatar,username)\n",
    "#     execute_sql(sql)\n",
    "# def update_nickname(username,nickname):\n",
    "#     sql = \"\"\"UPDATE USER SET nickname='%s' \n",
    "#              WHERE username='%s';\"\"\"%(nickname,username)\n",
    "#     execute_sql(sql)\n",
    "# def get_user_by_name(username):\n",
    "#     sql = \"\"\"SELECT * FROM USER WHERE username='%s';\"\"\"%(username)\n",
    "#     result = execute_sql(sql)\n",
    "#     return result\n",
    "# def get_user_by_id(user_id):\n",
    "#     sql = \"\"\"SELECT * FROM USER WHERE user_id='%s';\"\"\"%(user_id)\n",
    "#     result = execute_sql(sql)\n",
    "#     return result\n"
   ]
  },
  {
   "cell_type": "code",
   "execution_count": 10,
   "metadata": {},
   "outputs": [
    {
     "name": "stderr",
     "output_type": "stream",
     "text": [
      "/Users/cmq2525/anaconda3/lib/python3.6/site-packages/pymysql/cursors.py:170: Warning: (3719, \"'utf8' is currently an alias for the character set UTF8MB3, but will be an alias for UTF8MB4 in a future release. Please consider using UTF8MB4 in order to be unambiguous.\")\n",
      "  result = self._query(query)\n"
     ]
    }
   ],
   "source": [
    "# def init_all_tables():\n",
    "#     init_chat_history_table()\n",
    "#     init_chatroom_table()\n",
    "#     init_user_table()\n",
    "# init_all_tables()"
   ]
  },
  {
   "cell_type": "code",
   "execution_count": null,
   "metadata": {
    "collapsed": true
   },
   "outputs": [],
   "source": []
  },
  {
   "cell_type": "markdown",
   "metadata": {},
   "source": [
    "## 后台逻辑"
   ]
  },
  {
   "cell_type": "code",
   "execution_count": 8,
   "metadata": {
    "collapsed": true
   },
   "outputs": [],
   "source": [
    "#登录\n",
    "def register(username,password):\n",
    "    result = get_user_by_name(username)\n",
    "    if len(result) == 0:\n",
    "        insert_user_item(username,password)\n",
    "        return 'suc'\n",
    "    else:\n",
    "        return 'already registered'\n",
    "#登录\n",
    "def login(username,password):\n",
    "    result = get_user_by_name(username)\n",
    "    if result and result[0][3] == password:\n",
    "        return result[0][0]\n",
    "    else:\n",
    "        return -1"
   ]
  },
  {
   "cell_type": "code",
   "execution_count": null,
   "metadata": {
    "collapsed": true
   },
   "outputs": [],
   "source": []
  },
  {
   "cell_type": "code",
   "execution_count": 9,
   "metadata": {
    "collapsed": true
   },
   "outputs": [],
   "source": [
    "#加入聊天室\n",
    "def create_chatroom(user_id):\n",
    "    #找到一个没用过的room_id\n",
    "    room_id = random.randint(0,10000)\n",
    "    while(len(get_chatroom_user(room_id))!=0):\n",
    "        room_id = random.randint(0,10000)\n",
    "    insert_chatroom_item(room_id,user_id)\n",
    "    return room_id\n",
    "        \n",
    "def join_chatroom(room_id,user_id):\n",
    "    if len(get_chatroom_item(room_id,user_id))==0:\n",
    "        insert_chatroom_item(room_id,user_id)\n",
    "    "
   ]
  },
  {
   "cell_type": "code",
   "execution_count": 10,
   "metadata": {
    "collapsed": true
   },
   "outputs": [],
   "source": [
    "#接收聊天信息\n",
    "def chat_in_chatroom(room_id,user_id,content):\n",
    "    insert_chat_history_item(room_id,user_id,'chatroom',content)\n",
    "#刷新聊天信息\n",
    "def refresh_chat(target_id,target_type,start_time):\n",
    "    def process_chat_history(chat_history):\n",
    "        conv_id,user_id,target_id,target_type,content,time = chat_history\n",
    "        time = time.strftime(\"%Y-%m-%d %H:%M:%S\")\n",
    "        user_item = get_user_by_id(user_id)\n",
    "        #如果有nickname就返回nickname，否则返回username\n",
    "        username = user_item[0][1]\n",
    "        #只需要知道作者，时间，内容\n",
    "        return [username,content,time]\n",
    "    end_time = datetime.datetime.now()\n",
    "    chat_content = check_chat_history(target_id,target_type,start_time,end_time)\n",
    "    if len(chat_content):\n",
    "        chat_content = list(map(process_chat_history,chat_content))\n",
    "    return chat_content,end_time\n",
    "    "
   ]
  },
  {
   "cell_type": "code",
   "execution_count": null,
   "metadata": {
    "collapsed": true
   },
   "outputs": [],
   "source": []
  },
  {
   "cell_type": "code",
   "execution_count": null,
   "metadata": {
    "collapsed": true
   },
   "outputs": [],
   "source": []
  },
  {
   "cell_type": "code",
   "execution_count": 34,
   "metadata": {},
   "outputs": [
    {
     "data": {
      "text/plain": [
       "<flask_cors.extension.CORS at 0x109cdc7b8>"
      ]
     },
     "execution_count": 34,
     "metadata": {},
     "output_type": "execute_result"
    }
   ],
   "source": [
    "app = Flask(__name__,\n",
    "            static_url_path='', \n",
    "            static_folder='dist',\n",
    "            template_folder='dist')\n",
    "CORS(app)\n"
   ]
  },
  {
   "cell_type": "code",
   "execution_count": 25,
   "metadata": {
    "collapsed": true
   },
   "outputs": [],
   "source": [
    "@app.route('/')\n",
    "def hello():\n",
    "    print('args:',request.args)\n",
    "    response = make_response(jsonify({'result':'hello world!'}))\n",
    "    return response\n",
    "\n"
   ]
  },
  {
   "cell_type": "code",
   "execution_count": 26,
   "metadata": {
    "collapsed": true
   },
   "outputs": [],
   "source": [
    "#注册，返回成功与否\n",
    "@app.route('/api/register',methods=['POST',])\n",
    "def process_register():\n",
    "    username = request.form['username']\n",
    "    password = request.form['password']\n",
    "    msg = register(username,password)\n",
    "    \n",
    "    result = {'msg':msg}\n",
    "    return make_response(jsonify(result))\n",
    "#登录，返回user_id\n",
    "@app.route('/api/login',methods=['POST',])\n",
    "def process_login():\n",
    "    username = request.form['username']\n",
    "    password = request.form['password']\n",
    "    user_id = login(username,password)\n",
    "    \n",
    "    result = {'user_id':user_id}\n",
    "    return make_response(jsonify(result))\n",
    "#更改昵称和头像\n",
    "@app.route('/api/change_nickname',methods=['POST',])\n",
    "def change_nickname():\n",
    "    username = request.form['username']\n",
    "    nickname = request.form['nickname']\n",
    "    update_nickname(username,nickname)\n",
    "    result = {'msg':'suc'}\n",
    "@app.route('/api/change_avatar',methods=['POST',])\n",
    "def change_avatar():\n",
    "    username = request.form['username']\n",
    "    f = request.files['file']\n",
    "    save_path = os.path.join('./dist/images',secure_filename(f.filename))  #注意：没有的文件夹一定要先创建，不然会提示没有该路径\n",
    "    f.save(save_path)\n",
    "    avatar_path = os.path.join('images',secure_filename(f.filename)) \n",
    "    update_avatar(username,avatar_path)\n",
    "    result = {'msg':'suc'}\n",
    "    return make_response(jsonify(result))\n"
   ]
  },
  {
   "cell_type": "code",
   "execution_count": 27,
   "metadata": {},
   "outputs": [],
   "source": [
    "\n",
    "@app.route('/api/get_user_info',methods=['GET',])\n",
    "def get_user_info():\n",
    "    username = request.args.get('username')\n",
    "    result = {'avatar':'images/default.jpg',\n",
    "              'nickname':username}\n",
    "    item = get_user_by_name(username)\n",
    "    if item:\n",
    "        result['avatar'] = item[0][4]\n",
    "        result['nickname'] = item[0][2]\n",
    "    return make_response(jsonify(result))"
   ]
  },
  {
   "cell_type": "code",
   "execution_count": 28,
   "metadata": {
    "collapsed": true
   },
   "outputs": [],
   "source": [
    "#建立聊天室，返回聊天室id\n",
    "@app.route('/api/create_chatroom',methods=['POST',])\n",
    "def process_create_chatroom():\n",
    "    user_id = request.form['user_id']\n",
    "    room_id = create_chatroom(user_id)\n",
    "    result = {'room_id':room_id}\n",
    "    return make_response(jsonify(result))\n",
    "#加入聊天室，返回成功与否\n",
    "@app.route('/api/join_chatroom',methods=['POST',])\n",
    "def process_join_chatroom():\n",
    "    room_id = request.form['room_id']\n",
    "    user_id = request.form['user_id']\n",
    "    \n",
    "    join_chatroom(room_id,user_id)\n",
    "    \n",
    "    result = {'msg':'suc'}\n",
    "    return make_response(jsonify(result))"
   ]
  },
  {
   "cell_type": "code",
   "execution_count": 35,
   "metadata": {},
   "outputs": [],
   "source": [
    "#发送聊天信息，返回成功与否\n",
    "@app.route('/api/chat_in_chatroom',methods=['POST',])\n",
    "def process_chat_in_chatroom():\n",
    "    user_id = request.form['room_id']\n",
    "    room_id = request.form['user_id']\n",
    "    content = request.form['content']\n",
    "    print('requset:',request.args)\n",
    "    print('A!B!C!',user_id,room_id,content)\n",
    "    chat_in_chatroom(room_id,user_id,content)\n",
    "    result = {'msg':'suc'}\n",
    "    return make_response(jsonify(result))\n",
    "#刷新聊天信息，返回start_time到刷新时刻过程中的所有内容\n",
    "@app.route('/api/refresh_chat',methods=['GET',])\n",
    "def process_refresh_chat():\n",
    "    target_id = request.args.get('target_id')\n",
    "    target_type = request.args.get('target_type')\n",
    "    start_time = request.args.get('start_time')\n",
    "    print(target_id,target_type,start_time)\n",
    "    chat_content,end_time = refresh_chat(target_id,target_type,start_time)\n",
    "    result = {'chat_content':chat_content,\n",
    "              'end_time':end_time}\n",
    "    return make_response(jsonify(result))\n",
    "    "
   ]
  },
  {
   "cell_type": "code",
   "execution_count": 23,
   "metadata": {},
   "outputs": [
    {
     "data": {
      "text/plain": [
       "((1, 2, 8368, 'chatroom', 'nihao cmq', datetime.datetime(2020, 6, 14, 17, 18)),\n",
       " (2, 2, 8368, 'chatroom', 'hei!', datetime.datetime(2020, 6, 14, 17, 19)),\n",
       " (3, 2333, 1, 'chatroom', 'qqq', datetime.datetime(2020, 6, 14, 22, 3)))"
      ]
     },
     "execution_count": 23,
     "metadata": {},
     "output_type": "execute_result"
    }
   ],
   "source": [
    "show_chat_history_table()"
   ]
  },
  {
   "cell_type": "code",
   "execution_count": 22,
   "metadata": {
    "collapsed": true
   },
   "outputs": [],
   "source": [
    "chat_in_chatroom(2333,1,'qqq')"
   ]
  },
  {
   "cell_type": "code",
   "execution_count": null,
   "metadata": {
    "collapsed": true
   },
   "outputs": [],
   "source": []
  },
  {
   "cell_type": "code",
   "execution_count": 17,
   "metadata": {},
   "outputs": [
    {
     "data": {
      "text/plain": [
       "([['wjs', 'nihao cmq', '2020-06-14 17:18:00'],\n",
       "  ['wjs', 'hei!', '2020-06-14 17:19:00']],\n",
       " datetime.datetime(2020, 6, 14, 22, 0, 18, 78456))"
      ]
     },
     "execution_count": 17,
     "metadata": {},
     "output_type": "execute_result"
    }
   ],
   "source": [
    "refresh_chat(8368,'chatroom','2020-01-01')"
   ]
  },
  {
   "cell_type": "code",
   "execution_count": null,
   "metadata": {
    "collapsed": true
   },
   "outputs": [],
   "source": []
  },
  {
   "cell_type": "code",
   "execution_count": 18,
   "metadata": {},
   "outputs": [],
   "source": [
    "@app.route('/api/upload',methods=['POST',])\n",
    "def upload():\n",
    "    f = request.files['file']\n",
    "    upload_path = os.path.join('./files',secure_filename(f.filename))  #注意：没有的文件夹一定要先创建，不然会提示没有该路径\n",
    "    f.save(upload_path)\n",
    "    result = {'file_name':upload_path}\n",
    "    return make_response(jsonify(result))"
   ]
  },
  {
   "cell_type": "code",
   "execution_count": 36,
   "metadata": {},
   "outputs": [
    {
     "name": "stderr",
     "output_type": "stream",
     "text": [
      " * Running on http://0.0.0.0:7777/ (Press CTRL+C to quit)\n",
      "127.0.0.1 - - [14/Jun/2020 22:18:42] \"\u001b[37mPOST /api/chat_in_chatroom HTTP/1.1\u001b[0m\" 200 -\n"
     ]
    },
    {
     "name": "stdout",
     "output_type": "stream",
     "text": [
      "requset: ImmutableMultiDict([])\n",
      "A!B!C! 8368 1 chen\n"
     ]
    },
    {
     "name": "stderr",
     "output_type": "stream",
     "text": [
      "127.0.0.1 - - [14/Jun/2020 22:18:56] \"\u001b[1m\u001b[31mPOST /api/chat_in_chatroom?user_id=2&room_id=2333&content=bbbb%21 HTTP/1.1\u001b[0m\" 400 -\n"
     ]
    }
   ],
   "source": [
    "app.run('0.0.0.0',7777)"
   ]
  },
  {
   "cell_type": "code",
   "execution_count": null,
   "metadata": {
    "collapsed": true
   },
   "outputs": [],
   "source": []
  },
  {
   "cell_type": "code",
   "execution_count": 27,
   "metadata": {},
   "outputs": [
    {
     "name": "stderr",
     "output_type": "stream",
     "text": [
      " * Running on http://0.0.0.0:7777/ (Press CTRL+C to quit)\n",
      "127.0.0.1 - - [12/Jun/2020 23:01:38] \"\u001b[37mGET /images/1.jpg HTTP/1.1\u001b[0m\" 200 -\n"
     ]
    }
   ],
   "source": []
  },
  {
   "cell_type": "code",
   "execution_count": null,
   "metadata": {
    "collapsed": true
   },
   "outputs": [],
   "source": []
  },
  {
   "cell_type": "code",
   "execution_count": null,
   "metadata": {
    "collapsed": true
   },
   "outputs": [],
   "source": []
  },
  {
   "cell_type": "code",
   "execution_count": 43,
   "metadata": {},
   "outputs": [
    {
     "ename": "SyntaxError",
     "evalue": "invalid syntax (<ipython-input-43-311ce2e1a1e9>, line 2)",
     "output_type": "error",
     "traceback": [
      "\u001b[0;36m  File \u001b[0;32m\"<ipython-input-43-311ce2e1a1e9>\"\u001b[0;36m, line \u001b[0;32m2\u001b[0m\n\u001b[0;31m    if x.i\u001b[0m\n\u001b[0m          ^\u001b[0m\n\u001b[0;31mSyntaxError\u001b[0m\u001b[0;31m:\u001b[0m invalid syntax\n"
     ]
    }
   ],
   "source": [
    "def encoding_utf8(x):\n",
    "    if x.i\n",
    "    return str(x,'UTF-8')\n",
    "def encoding_chat_history(chat_history):\n",
    "    return list(map(encoding_utf8,chat_history))\n",
    "list(map(encoding_chat_history,r))"
   ]
  },
  {
   "cell_type": "code",
   "execution_count": null,
   "metadata": {
    "collapsed": true
   },
   "outputs": [],
   "source": []
  },
  {
   "cell_type": "markdown",
   "metadata": {},
   "source": [
    "## DEBUG"
   ]
  },
  {
   "cell_type": "code",
   "execution_count": 168,
   "metadata": {
    "collapsed": true
   },
   "outputs": [],
   "source": [
    "\n",
    "from flask import Flask, request"
   ]
  },
  {
   "cell_type": "code",
   "execution_count": 178,
   "metadata": {},
   "outputs": [
    {
     "data": {
      "text/plain": [
       "<flask_cors.extension.CORS at 0x10cd64898>"
      ]
     },
     "execution_count": 178,
     "metadata": {},
     "output_type": "execute_result"
    }
   ],
   "source": [
    "app = Flask(__name__,\n",
    "            static_folder = \"./dist/static\",\n",
    "            template_folder = \"./dist\")\n",
    "CORS(app)"
   ]
  },
  {
   "cell_type": "code",
   "execution_count": 179,
   "metadata": {
    "collapsed": true
   },
   "outputs": [],
   "source": [
    "@app.route('/')\n",
    "def hello():\n",
    "    print('args:',request.args)\n",
    "    return 'hello world!'"
   ]
  },
  {
   "cell_type": "code",
   "execution_count": 180,
   "metadata": {
    "collapsed": true
   },
   "outputs": [],
   "source": [
    "@app.route('/test1')\n",
    "def test1():\n",
    "    image_data = open('chat.jpeg', \"rb\").read()\n",
    "    response = make_response(image_data)\n",
    "    response.headers['Content-Type'] = 'image/png'\n",
    "    return response"
   ]
  },
  {
   "cell_type": "code",
   "execution_count": 181,
   "metadata": {},
   "outputs": [
    {
     "name": "stderr",
     "output_type": "stream",
     "text": [
      " * Running on http://0.0.0.0:7777/ (Press CTRL+C to quit)\n",
      "127.0.0.1 - - [09/Jun/2020 16:39:59] \"\u001b[37mGET /test1 HTTP/1.1\u001b[0m\" 200 -\n",
      "127.0.0.1 - - [09/Jun/2020 16:40:34] \"\u001b[37mGET /test1?name=chen HTTP/1.1\u001b[0m\" 200 -\n",
      "127.0.0.1 - - [09/Jun/2020 16:42:21] \"\u001b[37mGET /test1?name=x HTTP/1.1\u001b[0m\" 200 -\n"
     ]
    }
   ],
   "source": [
    "app.run('0.0.0.0',7777)"
   ]
  }
 ],
 "metadata": {
  "kernelspec": {
   "display_name": "Python 3",
   "language": "python",
   "name": "python3"
  },
  "language_info": {
   "codemirror_mode": {
    "name": "ipython",
    "version": 3
   },
   "file_extension": ".py",
   "mimetype": "text/x-python",
   "name": "python",
   "nbconvert_exporter": "python",
   "pygments_lexer": "ipython3",
   "version": "3.6.3"
  }
 },
 "nbformat": 4,
 "nbformat_minor": 2
}
